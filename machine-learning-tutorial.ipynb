{
 "cells": [
  {
   "cell_type": "markdown",
   "id": "114541d8",
   "metadata": {},
   "source": [
    "# Machine Learning Tutorial"
   ]
  },
  {
   "cell_type": "markdown",
   "id": "25096a6f",
   "metadata": {},
   "source": [
    "### Steps:\n",
    "\n",
    "1. Import data - normally through csv file\n",
    "2. Clean the data - remove duplicates in data, remove bad data, conversions, etc. - model would learn bad patterns\n",
    "3. Split Data into Training/Test sets - If 1k+ pics of cats and dogs, 80% can be for training, and 20% for testing\n",
    "4. Create a Model - select an algorithm that will analyze the data\n",
    "5. Train the Model - feed the model training data; the model will then look for patterns in the data\n",
    "6. Make predictions - ask our model, is the image a cat or dog, and model will make a prediction\n",
    "7. Evaluate and Improve - assess accuracy of predictions; fine-tune parameters of model\n"
   ]
  },
  {
   "cell_type": "code",
   "execution_count": 40,
   "id": "8e30e979",
   "metadata": {},
   "outputs": [],
   "source": [
    "import pandas as pd\n",
    "import os\n",
    "from sklearn.tree import DecisionTreeClassifier\n",
    "from sklearn.model_selection import train_test_split  # With this function we can easily split our data set into two data sets (training/testing)\n",
    "from sklearn.metrics import accuracy_score  # This function will help measure accuracy of model"
   ]
  },
  {
   "cell_type": "code",
   "execution_count": 10,
   "id": "0a7f5bca",
   "metadata": {},
   "outputs": [
    {
     "data": {
      "text/plain": [
       "'/Users/jasonisberto/pyproject/pythonMoshTutorial'"
      ]
     },
     "execution_count": 10,
     "metadata": {},
     "output_type": "execute_result"
    }
   ],
   "source": [
    "pwd = os.getcwd()\n",
    "pwd"
   ]
  },
  {
   "cell_type": "code",
   "execution_count": 21,
   "id": "fb7b9688",
   "metadata": {},
   "outputs": [],
   "source": [
    "music_data = pd.read_csv('music.csv')"
   ]
  },
  {
   "cell_type": "markdown",
   "id": "84d26b2d",
   "metadata": {},
   "source": [
    "### Keyboard shortucts\n"
   ]
  },
  {
   "cell_type": "code",
   "execution_count": 57,
   "id": "432b1550",
   "metadata": {},
   "outputs": [],
   "source": [
    "# Escape --> H : Brings up shortcut help menu\n",
    "\n",
    "# Hit tab after 'df.' this brings up all attributes and methods for the object\n",
    "# df.describe()  # While hovering over the method, hit shift and tab to get a description \n",
    "# Control + Enter : This allows you to run a cell over and over again without a new cell appearing below it\n"
   ]
  },
  {
   "cell_type": "markdown",
   "id": "f431e501",
   "metadata": {},
   "source": [
    "### Prepare the data"
   ]
  },
  {
   "cell_type": "code",
   "execution_count": 24,
   "id": "9c46a2a2",
   "metadata": {},
   "outputs": [],
   "source": [
    "# Split data into two sets: Input set and Output set\n",
    "# When training a model, output set contains predictions\n",
    "# After training a model, we give them a new input set"
   ]
  },
  {
   "cell_type": "code",
   "execution_count": 27,
   "id": "eac40048",
   "metadata": {},
   "outputs": [],
   "source": [
    "X = music_data.drop(columns=['genre'])  # Input set\n",
    "y = music_data['genre']  # Output set\n",
    "train_test_split(X, y)"
   ]
  },
  {
   "cell_type": "markdown",
   "id": "494d0f5b",
   "metadata": {},
   "source": [
    "### Running an algorithm"
   ]
  },
  {
   "cell_type": "code",
   "execution_count": 35,
   "id": "613c7645",
   "metadata": {},
   "outputs": [
    {
     "name": "stderr",
     "output_type": "stream",
     "text": [
      "/Users/jasonisberto/opt/anaconda3/lib/python3.9/site-packages/sklearn/base.py:450: UserWarning: X does not have valid feature names, but DecisionTreeClassifier was fitted with feature names\n",
      "  warnings.warn(\n"
     ]
    },
    {
     "data": {
      "text/plain": [
       "array(['HipHop', 'Dance'], dtype=object)"
      ]
     },
     "execution_count": 35,
     "metadata": {},
     "output_type": "execute_result"
    }
   ],
   "source": [
    "model = DecisionTreeClassifier()  # Now we have a model\n",
    "model.fit(X, y)  # This fit() method takes two data sets - input and output\n",
    "\n",
    "# Then we ask our model to make a prediction: What kind of music does a 21 yr old male like\n",
    "# Based on our data frame, we'd expect it to be HipHop\n",
    "\n",
    "predictions = model.predict([ [21, 1], [22, 0] ])  # This method takes a two-dimensional array [ , ], [ , ]\n",
    "predictions"
   ]
  },
  {
   "cell_type": "markdown",
   "id": "8e8788b8",
   "metadata": {},
   "source": [
    "### Calculating accuracy of model"
   ]
  },
  {
   "cell_type": "code",
   "execution_count": 77,
   "id": "468c4bdf",
   "metadata": {},
   "outputs": [
    {
     "data": {
      "text/plain": [
       "1.0"
      ]
     },
     "execution_count": 77,
     "metadata": {},
     "output_type": "execute_result"
    }
   ],
   "source": [
    "# Need to split data set into two sets - Training and Testing\n",
    "# General rule of thumb - 70-80% to training and 20-30% to testing\n",
    "# So instead of passing only two samples for predictions, \n",
    "# we can pass the data set for training, and compare it to the values in testing \n",
    "\n",
    "X = music_data.drop(columns=['genre'])  # Input set\n",
    "y = music_data['genre']  # Output set\n",
    "X_train, X_test, y_train, y_test = train_test_split(X, y, test_size=0.2)  # Allocating 20% of our data set to testing (0.2)\n",
    "# This gets unpacked into 4 tuples, which we can put into their own variables\n",
    "\n",
    "model = DecisionTreeClassifier()\n",
    "model.fit(X_train, y_train)  # Pass only the training data sets\n",
    "predictions = model.predict(X_test)  # Pass the test dataset which is input values that we want to test\n",
    "\n",
    "score = accuracy_score(y_test, predictions)  # Pass the expected values stored in y_test, and then pass predictions\n",
    "# This will return an accuracy score from 0-1\n",
    "\n",
    "score  # Every time you run it, the score can change since the model is randomly picking data\n",
    "# Initial result is 1.0; when ran again it was 0.75\n",
    "\n",
    "# If you raise the testing size higher, let's say around 80%, you'll get a really low accuracy score\n",
    "# This is due to not having as much data to train the model.\n",
    "# The more data we give our model, and the cleaner the data is, the better accuracy and result\n",
    "\n"
   ]
  },
  {
   "cell_type": "markdown",
   "id": "b1ffc918",
   "metadata": {},
   "source": [
    "### Persisting Models\n",
    "\n",
    "This is important if we are dealing with models with a lot of data. \n",
    "\n",
    "Millions of rows lets say that could take minutes or hours to run.\n",
    "\n",
    "That's why model persistance is important.\n",
    "\n",
    "We build and train the model, and then save it to a file. If we want to make predictions, we load the model from the file and ask it to make predictions.\n",
    "\n",
    "That model is already trained."
   ]
  },
  {
   "cell_type": "code",
   "execution_count": 86,
   "id": "118480b2",
   "metadata": {},
   "outputs": [],
   "source": [
    "import pandas as pd\n",
    "from sklearn.tree import DecisionTreeClassifier\n",
    "import joblib  # This object has methods for saving and loading modules"
   ]
  },
  {
   "cell_type": "code",
   "execution_count": 87,
   "id": "3e8a29bd",
   "metadata": {},
   "outputs": [
    {
     "data": {
      "text/plain": [
       "['music-recommender.joblib']"
      ]
     },
     "execution_count": 87,
     "metadata": {},
     "output_type": "execute_result"
    }
   ],
   "source": [
    "# music_data = pd.read_csv('music.csv')\n",
    "# X = music_data.drop(columns=['genre'])\n",
    "# y = music_data['genre']\n",
    "\n",
    "# model = DecisionTreeClassifier()\n",
    "# model.fit(X, y)\n",
    "\n",
    "joblib.dump(model, 'music-recommender.joblib')  # Storing trained model into a file\n"
   ]
  },
  {
   "cell_type": "code",
   "execution_count": 89,
   "id": "317c0cf2",
   "metadata": {},
   "outputs": [
    {
     "name": "stderr",
     "output_type": "stream",
     "text": [
      "/Users/jasonisberto/opt/anaconda3/lib/python3.9/site-packages/sklearn/base.py:450: UserWarning: X does not have valid feature names, but DecisionTreeClassifier was fitted with feature names\n",
      "  warnings.warn(\n"
     ]
    },
    {
     "data": {
      "text/plain": [
       "array(['HipHop'], dtype=object)"
      ]
     },
     "execution_count": 89,
     "metadata": {},
     "output_type": "execute_result"
    }
   ],
   "source": [
    "model = joblib.load('music-recommender.joblib')  # Now we load the model we stored in the file\n",
    "predictions = model.predict([[21, 1]])\n",
    "predictions"
   ]
  },
  {
   "cell_type": "markdown",
   "id": "63206bec",
   "metadata": {},
   "source": [
    "### Visualizing a Decision Tree\n",
    "\n",
    "Export model in visual format to see how model makes predictions"
   ]
  },
  {
   "cell_type": "code",
   "execution_count": 93,
   "id": "253276bd",
   "metadata": {},
   "outputs": [],
   "source": [
    "import pandas as pd\n",
    "from sklearn.tree import DecisionTreeClassifier\n",
    "from sklearn import tree"
   ]
  },
  {
   "cell_type": "code",
   "execution_count": 91,
   "id": "a29041e3",
   "metadata": {},
   "outputs": [
    {
     "data": {
      "text/plain": [
       "DecisionTreeClassifier()"
      ]
     },
     "execution_count": 91,
     "metadata": {},
     "output_type": "execute_result"
    }
   ],
   "source": [
    "music_data = pd.read_csv('music.csv')\n",
    "X = music_data.drop(columns=['genre'])\n",
    "y = music_data['genre']\n",
    "\n",
    "model = DecisionTreeClassifier()\n",
    "model.fit(X, y)"
   ]
  },
  {
   "cell_type": "code",
   "execution_count": 94,
   "id": "0c96bfd6",
   "metadata": {},
   "outputs": [],
   "source": [
    "tree.export_graphviz(model, out_file='music-recommender.dot',\n",
    "                    feature_names=['age', 'gender'],\n",
    "                    class_names=sorted(y.unique()),\n",
    "                    label='all',\n",
    "                    rounded=True,\n",
    "                    filled=True)"
   ]
  },
  {
   "cell_type": "code",
   "execution_count": null,
   "id": "9409928f",
   "metadata": {},
   "outputs": [],
   "source": [
    "# Need to download VS code. Continue from here."
   ]
  }
 ],
 "metadata": {
  "kernelspec": {
   "display_name": "Python 3 (ipykernel)",
   "language": "python",
   "name": "python3"
  },
  "language_info": {
   "codemirror_mode": {
    "name": "ipython",
    "version": 3
   },
   "file_extension": ".py",
   "mimetype": "text/x-python",
   "name": "python",
   "nbconvert_exporter": "python",
   "pygments_lexer": "ipython3",
   "version": "3.9.12"
  }
 },
 "nbformat": 4,
 "nbformat_minor": 5
}
